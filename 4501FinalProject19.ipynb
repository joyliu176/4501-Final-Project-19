{
 "cells": [
  {
   "cell_type": "markdown",
   "id": "1ce6f89c",
   "metadata": {},
   "source": [
    "<center><h1><b>NYC Apartment Search</b></h1></center>"
   ]
  },
  {
   "cell_type": "markdown",
   "id": "56a5a4e6",
   "metadata": {},
   "source": [
    "---\n",
    "# Setup\n",
    "\n",
    "## Import Statements\n",
    "\n",
    "This code block includes various import statements that bring in libraries and modules necessary for data manipulation, visualization, database operations, and geographic information system (GIS) tasks. These imports cover a wide range of functionalities required for the project.\n",
    "\n"
   ]
  },
  {
   "cell_type": "code",
   "execution_count": 2,
   "id": "b1a5f05c",
   "metadata": {},
   "outputs": [],
   "source": [
    "# Standard library imports\n",
    "import os\n",
    "import json\n",
    "import unittest\n",
    "import pathlib\n",
    "import urllib.parse\n",
    "from datetime import datetime\n",
    "from pathlib import Path\n",
    "from typing import List\n",
    "\n",
    "# Data manipulation and visualization\n",
    "import matplotlib.pyplot as plt\n",
    "import matplotlib.dates as mdates\n",
    "import pandas as pd\n",
    "import requests\n",
    "import logging\n",
    "\n",
    "# Database and GIS related imports\n",
    "import psycopg2\n",
    "import psycopg2.extras\n",
    "import geoalchemy2 as gdb\n",
    "import geopandas as gpd\n",
    "import shapely\n",
    "from shapely.geometry import Point, Polygon, mapping\n",
    "from shapely import wkb\n",
    "\n",
    "# SQLAlchemy imports\n",
    "from sqlalchemy.ext.declarative import declarative_base\n",
    "from sqlalchemy import (\n",
    "    create_engine,\n",
    "    Column,\n",
    "    Integer,\n",
    "    Float,\n",
    "    String,\n",
    "    DateTime,\n",
    "    text,\n",
    "    ForeignKey,\n",
    ")\n",
    "from sqlalchemy.orm import sessionmaker, relationship\n",
    "from sqlalchemy.schema import CreateTable\n",
    "from geoalchemy2 import Geometry\n",
    "from geoalchemy2.shape import to_shape\n"
   ]
  },
  {
   "cell_type": "markdown",
   "id": "57bcaa2c",
   "metadata": {},
   "source": [
    "## Constants and File Paths\n",
    "\n",
    "This code block defines several constants and file paths for data directories and files related to the project. It also includes constants for accessing New York City data through an API.\n"
   ]
  },
  {
   "cell_type": "code",
   "execution_count": 4,
   "id": "1a551e79",
   "metadata": {},
   "outputs": [],
   "source": [
    "# File paths and directory constants\n",
    "DATA_DIR = pathlib.Path(\"data\")\n",
    "ZIPCODE_DATA_FILE = DATA_DIR / \"zipcodes\" / \"nyc_zipcodes.shp\"\n",
    "ZILLOW_DATA_FILE = DATA_DIR / \"zillow_rent_data.csv\"\n",
    "\n",
    "# New York City data API constants\n",
    "NYC_DATA_APP_TOKEN = \"SMg9akfNT3gV1L4QAEb8vlx4F\"\n",
    "BASE_NYC_DATA_URL = \"https://data.cityofnewyork.us/\"\n",
    "NYC_DATA_311 = \"erm2-nwe9.geojson\"\n",
    "NYC_DATA_TREES = \"5rq2-4hqu.geojson\""
   ]
  },
  {
   "cell_type": "code",
   "execution_count": 5,
   "id": "c78f3188",
   "metadata": {},
   "outputs": [],
   "source": [
    "# Database constants\n",
    "DB_NAME = \"group19project\"\n",
    "DB_USER = \"cecilialin\"\n",
    "DB_URL = f\"postgres+psycopg2://{DB_USER}@localhost/{DB_NAME}\"\n",
    "DB_SCHEMA_FILE = \"schema.sql\""
   ]
  },
  {
   "cell_type": "code",
   "execution_count": 6,
   "id": "67ad14f8",
   "metadata": {},
   "outputs": [],
   "source": [
    "# Directory for DB queries for Part 3\n",
    "QUERY_DIR = pathlib.Path(\"queries\")\n",
    "\n",
    "# Make sure the QUERY_DIRECTORY exists\n",
    "if not QUERY_DIR.exists():\n",
    "    QUERY_DIR.mkdir()"
   ]
  },
  {
   "cell_type": "code",
   "execution_count": 7,
   "id": "db4ed075",
   "metadata": {},
   "outputs": [
    {
     "name": "stdout",
     "output_type": "stream",
     "text": [
      "Directory data/resource has been created.\n"
     ]
    }
   ],
   "source": [
    "# Directory path\n",
    "directory = \"data/resource\"\n",
    "\n",
    "# Create the directory. exist_ok=True means it won't throw an error if the directory already exists.\n",
    "os.makedirs(directory, exist_ok=True)\n",
    "\n",
    "print(f\"Directory {directory} has been created.\")\n"
   ]
  },
  {
   "cell_type": "markdown",
   "id": "d0baf20f",
   "metadata": {},
   "source": [
    "## Logging Setup\n",
    "\n",
    "This code block sets up logging for information (INFO) and error tracking. It configures the logging module to handle log messages for the current module.\n"
   ]
  },
  {
   "cell_type": "code",
   "execution_count": 8,
   "id": "fb2572ce",
   "metadata": {},
   "outputs": [],
   "source": [
    "# Setup logging for info and error tracking\n",
    "logging.basicConfig(level=logging.INFO)\n",
    "logger = logging.getLogger(__name__)"
   ]
  },
  {
   "cell_type": "code",
   "execution_count": null,
   "id": "0a3a3155",
   "metadata": {},
   "outputs": [],
   "source": []
  }
 ],
 "metadata": {
  "kernelspec": {
   "display_name": "Python 3 (ipykernel)",
   "language": "python",
   "name": "python3"
  },
  "language_info": {
   "codemirror_mode": {
    "name": "ipython",
    "version": 3
   },
   "file_extension": ".py",
   "mimetype": "text/x-python",
   "name": "python",
   "nbconvert_exporter": "python",
   "pygments_lexer": "ipython3",
   "version": "3.11.0"
  }
 },
 "nbformat": 4,
 "nbformat_minor": 5
}
